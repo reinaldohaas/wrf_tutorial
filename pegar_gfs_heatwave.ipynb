{
  "nbformat": 4,
  "nbformat_minor": 0,
  "metadata": {
    "colab": {
      "provenance": [],
      "toc_visible": true,
      "mount_file_id": "1H8gH986M-tVWABgQF-LkcjgpI_brkrcW",
      "authorship_tag": "ABX9TyO2lU+/O1bXVAdItxxOGtNf",
      "include_colab_link": true
    },
    "kernelspec": {
      "name": "python3",
      "display_name": "Python 3"
    },
    "language_info": {
      "name": "python"
    },
    "widgets": {
      "application/vnd.jupyter.widget-state+json": {
        "0c96778c2ad744b0b29d164939f8f73d": {
          "model_module": "@jupyter-widgets/controls",
          "model_name": "DropdownModel",
          "model_module_version": "1.5.0",
          "state": {
            "_dom_classes": [],
            "_model_module": "@jupyter-widgets/controls",
            "_model_module_version": "1.5.0",
            "_model_name": "DropdownModel",
            "_options_labels": [
              "gdas1.fnl0p25.2018071518.f00.grib2",
              "gdas1.fnl0p25.2018071506.f06.grib2",
              "gdas1.fnl0p25.2018071512.f03.grib2",
              "gdas1.fnl0p25.2018071512.f00.grib2",
              "gdas1.fnl0p25.2018071512.f06.grib2",
              "gdas1.fnl0p25.2018071506.f09.grib2"
            ],
            "_view_count": null,
            "_view_module": "@jupyter-widgets/controls",
            "_view_module_version": "1.5.0",
            "_view_name": "DropdownView",
            "description": "Select GRIB file:",
            "description_tooltip": null,
            "disabled": false,
            "index": 1,
            "layout": "IPY_MODEL_765da90fbadb405dbf2a60bc05ecbbdb",
            "style": "IPY_MODEL_4e34db7daf054da495b5a6acda0c9b4c"
          }
        },
        "765da90fbadb405dbf2a60bc05ecbbdb": {
          "model_module": "@jupyter-widgets/base",
          "model_name": "LayoutModel",
          "model_module_version": "1.2.0",
          "state": {
            "_model_module": "@jupyter-widgets/base",
            "_model_module_version": "1.2.0",
            "_model_name": "LayoutModel",
            "_view_count": null,
            "_view_module": "@jupyter-widgets/base",
            "_view_module_version": "1.2.0",
            "_view_name": "LayoutView",
            "align_content": null,
            "align_items": null,
            "align_self": null,
            "border": null,
            "bottom": null,
            "display": null,
            "flex": null,
            "flex_flow": null,
            "grid_area": null,
            "grid_auto_columns": null,
            "grid_auto_flow": null,
            "grid_auto_rows": null,
            "grid_column": null,
            "grid_gap": null,
            "grid_row": null,
            "grid_template_areas": null,
            "grid_template_columns": null,
            "grid_template_rows": null,
            "height": null,
            "justify_content": null,
            "justify_items": null,
            "left": null,
            "margin": null,
            "max_height": null,
            "max_width": null,
            "min_height": null,
            "min_width": null,
            "object_fit": null,
            "object_position": null,
            "order": null,
            "overflow": null,
            "overflow_x": null,
            "overflow_y": null,
            "padding": null,
            "right": null,
            "top": null,
            "visibility": null,
            "width": null
          }
        },
        "4e34db7daf054da495b5a6acda0c9b4c": {
          "model_module": "@jupyter-widgets/controls",
          "model_name": "DescriptionStyleModel",
          "model_module_version": "1.5.0",
          "state": {
            "_model_module": "@jupyter-widgets/controls",
            "_model_module_version": "1.5.0",
            "_model_name": "DescriptionStyleModel",
            "_view_count": null,
            "_view_module": "@jupyter-widgets/base",
            "_view_module_version": "1.2.0",
            "_view_name": "StyleView",
            "description_width": ""
          }
        }
      }
    }
  },
  "cells": [
    {
      "cell_type": "markdown",
      "metadata": {
        "id": "view-in-github",
        "colab_type": "text"
      },
      "source": [
        "<a href=\"https://colab.research.google.com/github/reinaldohaas/wrf_tutorial/blob/main/pegar_gfs_heatwave.ipynb\" target=\"_parent\"><img src=\"https://colab.research.google.com/assets/colab-badge.svg\" alt=\"Open In Colab\"/></a>"
      ]
    },
    {
      "cell_type": "code",
      "source": [
        "!pip install cartopy\n",
        "!pip install pygrib"
      ],
      "metadata": {
        "colab": {
          "base_uri": "https://localhost:8080/"
        },
        "id": "_ZKPpXNE4PU_",
        "outputId": "6adcba2f-39b7-426a-9b03-443476b203c9"
      },
      "execution_count": 1,
      "outputs": [
        {
          "output_type": "stream",
          "name": "stdout",
          "text": [
            "Collecting cartopy\n",
            "  Downloading Cartopy-0.23.0-cp310-cp310-manylinux_2_17_x86_64.manylinux2014_x86_64.whl.metadata (8.0 kB)\n",
            "Requirement already satisfied: numpy>=1.21 in /usr/local/lib/python3.10/dist-packages (from cartopy) (1.26.4)\n",
            "Requirement already satisfied: matplotlib>=3.5 in /usr/local/lib/python3.10/dist-packages (from cartopy) (3.7.1)\n",
            "Requirement already satisfied: shapely>=1.7 in /usr/local/lib/python3.10/dist-packages (from cartopy) (2.0.6)\n",
            "Requirement already satisfied: packaging>=20 in /usr/local/lib/python3.10/dist-packages (from cartopy) (24.1)\n",
            "Requirement already satisfied: pyshp>=2.3 in /usr/local/lib/python3.10/dist-packages (from cartopy) (2.3.1)\n",
            "Requirement already satisfied: pyproj>=3.3.1 in /usr/local/lib/python3.10/dist-packages (from cartopy) (3.6.1)\n",
            "Requirement already satisfied: contourpy>=1.0.1 in /usr/local/lib/python3.10/dist-packages (from matplotlib>=3.5->cartopy) (1.3.0)\n",
            "Requirement already satisfied: cycler>=0.10 in /usr/local/lib/python3.10/dist-packages (from matplotlib>=3.5->cartopy) (0.12.1)\n",
            "Requirement already satisfied: fonttools>=4.22.0 in /usr/local/lib/python3.10/dist-packages (from matplotlib>=3.5->cartopy) (4.53.1)\n",
            "Requirement already satisfied: kiwisolver>=1.0.1 in /usr/local/lib/python3.10/dist-packages (from matplotlib>=3.5->cartopy) (1.4.5)\n",
            "Requirement already satisfied: pillow>=6.2.0 in /usr/local/lib/python3.10/dist-packages (from matplotlib>=3.5->cartopy) (9.4.0)\n",
            "Requirement already satisfied: pyparsing>=2.3.1 in /usr/local/lib/python3.10/dist-packages (from matplotlib>=3.5->cartopy) (3.1.4)\n",
            "Requirement already satisfied: python-dateutil>=2.7 in /usr/local/lib/python3.10/dist-packages (from matplotlib>=3.5->cartopy) (2.8.2)\n",
            "Requirement already satisfied: certifi in /usr/local/lib/python3.10/dist-packages (from pyproj>=3.3.1->cartopy) (2024.8.30)\n",
            "Requirement already satisfied: six>=1.5 in /usr/local/lib/python3.10/dist-packages (from python-dateutil>=2.7->matplotlib>=3.5->cartopy) (1.16.0)\n",
            "Downloading Cartopy-0.23.0-cp310-cp310-manylinux_2_17_x86_64.manylinux2014_x86_64.whl (11.6 MB)\n",
            "\u001b[2K   \u001b[90m━━━━━━━━━━━━━━━━━━━━━━━━━━━━━━━━━━━━━━━━\u001b[0m \u001b[32m11.6/11.6 MB\u001b[0m \u001b[31m34.6 MB/s\u001b[0m eta \u001b[36m0:00:00\u001b[0m\n",
            "\u001b[?25hInstalling collected packages: cartopy\n",
            "Successfully installed cartopy-0.23.0\n",
            "Collecting pygrib\n",
            "  Downloading pygrib-2.1.6-cp310-cp310-manylinux_2_17_x86_64.manylinux2014_x86_64.whl.metadata (2.8 kB)\n",
            "Requirement already satisfied: packaging in /usr/local/lib/python3.10/dist-packages (from pygrib) (24.1)\n",
            "Requirement already satisfied: pyproj in /usr/local/lib/python3.10/dist-packages (from pygrib) (3.6.1)\n",
            "Requirement already satisfied: numpy in /usr/local/lib/python3.10/dist-packages (from pygrib) (1.26.4)\n",
            "Requirement already satisfied: certifi in /usr/local/lib/python3.10/dist-packages (from pyproj->pygrib) (2024.8.30)\n",
            "Downloading pygrib-2.1.6-cp310-cp310-manylinux_2_17_x86_64.manylinux2014_x86_64.whl (18.6 MB)\n",
            "\u001b[2K   \u001b[90m━━━━━━━━━━━━━━━━━━━━━━━━━━━━━━━━━━━━━━━━\u001b[0m \u001b[32m18.6/18.6 MB\u001b[0m \u001b[31m27.9 MB/s\u001b[0m eta \u001b[36m0:00:00\u001b[0m\n",
            "\u001b[?25hInstalling collected packages: pygrib\n",
            "Successfully installed pygrib-2.1.6\n"
          ]
        }
      ]
    },
    {
      "cell_type": "code",
      "source": [
        "import sys, os\n",
        "import requests\n",
        "import cartopy"
      ],
      "metadata": {
        "id": "pkomWMX032TT"
      },
      "execution_count": 2,
      "outputs": []
    },
    {
      "cell_type": "markdown",
      "source": [],
      "metadata": {
        "id": "PsMJ6dVK3-oT"
      }
    },
    {
      "cell_type": "code",
      "execution_count": 3,
      "metadata": {
        "colab": {
          "base_uri": "https://localhost:8080/"
        },
        "id": "LXU2wjZbnUyS",
        "outputId": "65a5c923-82bb-4cca-873f-ae998a66176f"
      },
      "outputs": [
        {
          "output_type": "stream",
          "name": "stdout",
          "text": [
            "--2024-09-09 13:21:13--  https://raw.githubusercontent.com/NCAR/rda-apps-clients/main/src/python/rdams_client.py\n",
            "Resolving raw.githubusercontent.com (raw.githubusercontent.com)... 185.199.108.133, 185.199.111.133, 185.199.110.133, ...\n",
            "Connecting to raw.githubusercontent.com (raw.githubusercontent.com)|185.199.108.133|:443... connected.\n",
            "HTTP request sent, awaiting response... 200 OK\n",
            "Length: 15494 (15K) [text/plain]\n",
            "Saving to: ‘rdams_client.py’\n",
            "\n",
            "\rrdams_client.py       0%[                    ]       0  --.-KB/s               \rrdams_client.py     100%[===================>]  15.13K  --.-KB/s    in 0.001s  \n",
            "\n",
            "2024-09-09 13:21:14 (25.3 MB/s) - ‘rdams_client.py’ saved [15494/15494]\n",
            "\n"
          ]
        }
      ],
      "source": [
        "!wget https://raw.githubusercontent.com/NCAR/rda-apps-clients/main/src/python/rdams_client.py"
      ]
    },
    {
      "cell_type": "code",
      "source": [
        "!python rdams_client.py --help"
      ],
      "metadata": {
        "colab": {
          "base_uri": "https://localhost:8080/"
        },
        "id": "IA44QZSHnqEt",
        "outputId": "9dbe42e7-42d8-4951-fb89-5731e0bcbe2a"
      },
      "execution_count": 4,
      "outputs": [
        {
          "output_type": "stream",
          "name": "stdout",
          "text": [
            "usage: rdams [-h] [-noprint] [-outdir [OUTDIR]]\n",
            "             (-get_summary <dsid> | -get_metadata <dsid> | -get_param_summary <dsid> | -submit <control file> | -get_status [<Request Index>] | -download <Request Index> | -get_filelist <Request Index> | -globus_download <Request Index> | -get_control_file_template <dsid> | -purge <Request Index>)\n",
            "\n",
            "Queries NCAR RDA REST API.\n",
            "\n",
            "options:\n",
            "  -h, --help            show this help message and exit\n",
            "  -noprint, -np         Do not print result of queries.\n",
            "  -outdir [OUTDIR], -od [OUTDIR]\n",
            "                        Change the output directory of downloaded files\n",
            "  -get_summary <dsid>, -gsum <dsid>\n",
            "                        Get a summary of the given dataset.\n",
            "  -get_metadata <dsid>, -gm <dsid>\n",
            "                        Get metadata for a given dataset.\n",
            "  -get_param_summary <dsid>, -gpm <dsid>\n",
            "                        Get only parameters for a given dataset.\n",
            "  -submit <control file>, -s <control file>\n",
            "                        Submit a request using a control file.\n",
            "  -get_status [<Request Index>], -gs [<Request Index>]\n",
            "                        Get a summary of the given dataset.\n",
            "  -download <Request Index>, -d <Request Index>\n",
            "                        Download data given a request id.\n",
            "  -get_filelist <Request Index>, -gf <Request Index>\n",
            "                        Query the filelist for a completed request.\n",
            "  -globus_download <Request Index>, -gd <Request Index>\n",
            "                        Start a globus transfer for a give request index.\n",
            "  -get_control_file_template <dsid>, -gt <dsid>\n",
            "                        Get a template control file used for subsetting.\n",
            "  -purge <Request Index>\n",
            "                        Purge a request.\n"
          ]
        }
      ]
    },
    {
      "cell_type": "markdown",
      "source": [
        "** Preparar o controle **"
      ],
      "metadata": {
        "id": "PNay6y5eFLx-"
      }
    },
    {
      "cell_type": "code",
      "source": [
        "%%writefile rdams_request_ds083.3.txt\n",
        "dataset=ds083.3\n",
        "date=201807151200/to/201807151800\n",
        "param=TMP/DPT/SPF H/R H/WEASD/V GRD/U GRD/PRES/PRMSL/HGT/ICEC/LAND/TSOIL/SOILW\n",
        "nlat=60\n",
        "slat=45\n",
        "wlon=-3\n",
        "elon=13\n"
      ],
      "metadata": {
        "id": "BsZjOdoEn4HH",
        "colab": {
          "base_uri": "https://localhost:8080/"
        },
        "outputId": "4bbaaf35-c9a9-4549-8cd4-1b2326a3c1a8"
      },
      "execution_count": 19,
      "outputs": [
        {
          "output_type": "stream",
          "name": "stdout",
          "text": [
            "Overwriting rdams_request_ds083.3.txt\n"
          ]
        }
      ]
    },
    {
      "cell_type": "code",
      "source": [],
      "metadata": {
        "id": "wZEiwrgFaiCU"
      },
      "execution_count": null,
      "outputs": []
    },
    {
      "cell_type": "code",
      "source": [
        "from google.colab import userdata\n",
        "token=userdata.get('rda_token')"
      ],
      "metadata": {
        "id": "H-NgTTK9pAOM"
      },
      "execution_count": 7,
      "outputs": []
    },
    {
      "cell_type": "code",
      "source": [
        "!echo $token > /content/rdams_token.txt\n",
        "!cat /content/rdams_token.txt"
      ],
      "metadata": {
        "id": "ke_cUs6NtNVS",
        "colab": {
          "base_uri": "https://localhost:8080/"
        },
        "outputId": "35cd3d3a-f6a8-4f85-916c-1e34c5b3728d"
      },
      "execution_count": 8,
      "outputs": [
        {
          "output_type": "stream",
          "name": "stdout",
          "text": [
            "f477fca663fb4aa112d7c7feaa3f\n"
          ]
        }
      ]
    },
    {
      "cell_type": "markdown",
      "source": [],
      "metadata": {
        "id": "v7q-r_h1LdS0"
      }
    },
    {
      "cell_type": "code",
      "source": [
        "# prompt: O Código abaixo verifica de o request esta Request completed e faz um download dos dados\n",
        "#\n",
        "import time\n",
        "import re\n",
        "# prompt: usa saída rdams_request_ds083.3.out do python pegar o  request_id\n",
        "\n",
        "!python rdams_client.py -submit rdams_request_ds083.3.txt > rdams_request_ds083.3.out\n",
        "import re\n",
        "with open('rdams_request_ds083.3.out', 'r') as f:\n",
        "    for line in f:\n",
        "        if \"request_id\" in line:\n",
        "            request_id = re.findall(r\"\\d+\", line)[0]\n",
        "            break\n",
        "print(request_id)\n",
        "\n",
        "while True:\n",
        "    !python rdams_client.py -get_status {request_id} > rdams_request_ds083.3_status.out\n",
        "    with open('rdams_request_ds083.3_status.out', 'r') as f:\n",
        "        for line in f:\n",
        "            if '\"status\": \"Completed\"' in line:\n",
        "                print(\"Request completed!\")\n",
        "                !python rdams_client.py -download $request_id\n",
        "                break\n",
        "            elif '\"status\": \"Failed\"' in line:\n",
        "                print(\"Request failed!\")\n",
        "                break\n",
        "    if '\"status\": \"Completed\"' in line or '\"status\": \"Failed\"' in line:\n",
        "        break\n",
        "    time.sleep(10)  # Wait 10 seconds before checking again\n"
      ],
      "metadata": {
        "colab": {
          "base_uri": "https://localhost:8080/"
        },
        "id": "YIVw1pL-KKi3",
        "outputId": "9af5ae23-3454-4443-d58b-43a72d7121ed"
      },
      "execution_count": 36,
      "outputs": [
        {
          "output_type": "stream",
          "name": "stdout",
          "text": [
            "757267\n",
            "Request completed!\n",
            "Downloading gdas1.fnl0p25.2018071506.f06-25.2018071518.f00.grib2.tar\n",
            "100.000 % Completed\n",
            "{\n",
            "   \"status\": \"ok\",\n",
            "   \"http_response\": 200,\n",
            "   \"error_messages\": [],\n",
            "   \"data\": {\n",
            "      \"web_files\": [\n",
            "         {\n",
            "            \"wfile\": \"gdas1.fnl0p25.2018071506.f06.grib2\",\n",
            "            \"size\": 1298417,\n",
            "            \"web_path\": \"https://request.rda.ucar.edu/dsrqst/HAAS757267/TarFiles/gdas1.fnl0p25.2018071506.f06-25.2018071518.f00.grib2.tar\"\n",
            "         },\n",
            "         {\n",
            "            \"wfile\": \"gdas1.fnl0p25.2018071506.f09.grib2\",\n",
            "            \"size\": 1277602,\n",
            "            \"web_path\": \"https://request.rda.ucar.edu/dsrqst/HAAS757267/TarFiles/gdas1.fnl0p25.2018071506.f06-25.2018071518.f00.grib2.tar\"\n",
            "         },\n",
            "         {\n",
            "            \"wfile\": \"gdas1.fnl0p25.2018071512.f00.grib2\",\n",
            "            \"size\": 1207516,\n",
            "            \"web_path\": \"https://request.rda.ucar.edu/dsrqst/HAAS757267/TarFiles/gdas1.fnl0p25.2018071506.f06-25.2018071518.f00.grib2.tar\"\n",
            "         },\n",
            "         {\n",
            "            \"wfile\": \"gdas1.fnl0p25.2018071512.f03.grib2\",\n",
            "            \"size\": 1281071,\n",
            "            \"web_path\": \"https://request.rda.ucar.edu/dsrqst/HAAS757267/TarFiles/gdas1.fnl0p25.2018071506.f06-25.2018071518.f00.grib2.tar\"\n",
            "         },\n",
            "         {\n",
            "            \"wfile\": \"gdas1.fnl0p25.2018071512.f06.grib2\",\n",
            "            \"size\": 1299909,\n",
            "            \"web_path\": \"https://request.rda.ucar.edu/dsrqst/HAAS757267/TarFiles/gdas1.fnl0p25.2018071506.f06-25.2018071518.f00.grib2.tar\"\n",
            "         },\n",
            "         {\n",
            "            \"wfile\": \"gdas1.fnl0p25.2018071518.f00.grib2\",\n",
            "            \"size\": 1208012,\n",
            "            \"web_path\": \"https://request.rda.ucar.edu/dsrqst/HAAS757267/TarFiles/gdas1.fnl0p25.2018071506.f06-25.2018071518.f00.grib2.tar\"\n",
            "         }\n",
            "      ],\n",
            "      \"total_size\": 7572527\n",
            "   },\n",
            "   \"contact\": \"rdahelp@ucar.edu\"\n",
            "}\n"
          ]
        }
      ]
    },
    {
      "cell_type": "markdown",
      "source": [],
      "metadata": {
        "id": "UeXc858AqTB-"
      }
    },
    {
      "cell_type": "markdown",
      "source": [],
      "metadata": {
        "id": "xKtKEzkKqjGP"
      }
    },
    {
      "cell_type": "markdown",
      "source": [],
      "metadata": {
        "id": "Iyd7lcigM8E2"
      }
    },
    {
      "cell_type": "code",
      "source": [
        "# prompt: pegar todos os arquivos .tar no diretorio  e destartarizar e deleta-los\n",
        "\n",
        "import os\n",
        "import tarfile\n",
        "\n",
        "def extract_and_delete_tarfiles():\n",
        "  \"\"\"Extracts all .tar files in the current directory and deletes them.\"\"\"\n",
        "  for filename in os.listdir():\n",
        "    if filename.endswith(\".tar\"):\n",
        "      try:\n",
        "        with tarfile.open(filename) as tar:\n",
        "          tar.extractall()\n",
        "        os.remove(filename)\n",
        "        print(f\"Extracted and deleted: {filename}\")\n",
        "      except Exception as e:\n",
        "        print(f\"Error processing {filename}: {e}\")\n",
        "\n",
        "extract_and_delete_tarfiles()\n"
      ],
      "metadata": {
        "colab": {
          "base_uri": "https://localhost:8080/"
        },
        "id": "gInbzLkN4sUY",
        "outputId": "d24a31ce-97a6-4bc9-cd35-501297b3dbc5"
      },
      "execution_count": 37,
      "outputs": [
        {
          "output_type": "stream",
          "name": "stdout",
          "text": [
            "Extracted and deleted: gdas1.fnl0p25.2018071506.f06-25.2018071518.f00.grib2.tar\n"
          ]
        }
      ]
    },
    {
      "cell_type": "code",
      "source": [
        "# prompt: mudar celula abaixo para selecionar manualmente um   grib_files e colocar selected_file\n",
        "import ipywidgets as widgets # For ease in selecting variables.\n",
        "# Get a list of GRIB files in the current directory\n",
        "grib_files = [f for f in os.listdir('.') if f.endswith('.grib2')]\n",
        "\n",
        "# Create a dropdown widget\n",
        "file_dropdown = widgets.Dropdown(\n",
        "    options=grib_files,\n",
        "    value=grib_files[0] if grib_files else None,\n",
        "    description='Select GRIB file:',\n",
        "    disabled=False,\n",
        ")\n",
        "\n",
        "# Display the dropdown\n",
        "display(file_dropdown)\n",
        "\n",
        "# Get the selected file\n",
        "selected_file = file_dropdown.value"
      ],
      "metadata": {
        "colab": {
          "base_uri": "https://localhost:8080/",
          "height": 49,
          "referenced_widgets": [
            "0c96778c2ad744b0b29d164939f8f73d",
            "765da90fbadb405dbf2a60bc05ecbbdb",
            "4e34db7daf054da495b5a6acda0c9b4c"
          ]
        },
        "id": "fr_2DLoy3qkX",
        "outputId": "deb2253f-bb1e-464d-8c78-ad246a04abe1"
      },
      "execution_count": 38,
      "outputs": [
        {
          "output_type": "display_data",
          "data": {
            "text/plain": [
              "Dropdown(description='Select GRIB file:', options=('gdas1.fnl0p25.2018071518.f00.grib2', 'gdas1.fnl0p25.201807…"
            ],
            "application/vnd.jupyter.widget-view+json": {
              "version_major": 2,
              "version_minor": 0,
              "model_id": "0c96778c2ad744b0b29d164939f8f73d"
            }
          },
          "metadata": {}
        }
      ]
    },
    {
      "cell_type": "code",
      "source": [
        "# prompt: plotar a variável PRMSLmsl Pressure reduced to MSL do arquivo $selected_file\n",
        "\n",
        "import pygrib\n",
        "import matplotlib.pyplot as plt\n",
        "import cartopy.crs as ccrs\n",
        "\n",
        "# Open the GRIB2 file\n",
        "grbs = pygrib.open(selected_file)\n",
        "\n",
        "# Find the message containing the desired variable\n",
        "# Initialize data, lat, and lon to None for error checking\n",
        "data = None\n",
        "lat = None\n",
        "lon = None\n",
        "\n",
        "for grb in grbs:\n",
        "  #print(grb.name)\n",
        "  if grb.name == 'Pressure reduced to MSL':\n",
        "    # Read the data\n",
        "    data = grb.values\n",
        "    lat, lon = grb.latlons()\n",
        "    break\n",
        "\n",
        "# Close the file\n",
        "grbs.close()\n",
        "\n",
        "# Check if data, lat, and lon were found\n",
        "if data is None or lat is None or lon is None:\n",
        "  print(\"Error: Could not find 'Pressure reduced to mean sea level' variable in the GRIB2 file.\")\n",
        "else:\n",
        "  # Create a plot\n",
        "  plt.figure(figsize=(10, 5))\n",
        "  ax = plt.axes(projection=ccrs.PlateCarree())\n",
        "  ax.coastlines()\n",
        "  cs = ax.contourf(lon, lat, data, transform=ccrs.PlateCarree())\n",
        "  plt.colorbar(cs)\n",
        "  plt.title('Pressure reduced to mean sea level')\n",
        "  plt.show()\n"
      ],
      "metadata": {
        "colab": {
          "base_uri": "https://localhost:8080/",
          "height": 452
        },
        "id": "Rizi0hZ6VTH4",
        "outputId": "5e2e41cf-3255-4981-fa5d-6fb168a709a6"
      },
      "execution_count": 45,
      "outputs": [
        {
          "output_type": "display_data",
          "data": {
            "text/plain": [
              "<Figure size 1000x500 with 2 Axes>"
            ],
            "image/png": "[encoded data removed]"
          },
          "metadata": {}
        }
      ]
    },
    {
      "cell_type": "code",
      "source": [
        "%mkdir /content/drive/MyDrive/gis4wrf/datasets/met/ds083.3/201807151200_201807151800\n",
        "%cp gdas1*.grib2 /content/drive/MyDrive/gis4wrf/datasets/met/ds083.3/201807151200_201807151800/."
      ],
      "metadata": {
        "id": "XUGGHA5vrVh9",
        "colab": {
          "base_uri": "https://localhost:8080/"
        },
        "outputId": "160ae681-4a3e-4b6a-ee7c-2bd31e2934d9"
      },
      "execution_count": 42,
      "outputs": [
        {
          "output_type": "stream",
          "name": "stdout",
          "text": [
            "mkdir: cannot create directory ‘/content/drive/MyDrive/gis4wrf/datasets/met/ds083.3/201807151200_201807151800’: File exists\n"
          ]
        }
      ]
    },
    {
      "cell_type": "markdown",
      "source": [],
      "metadata": {
        "id": "VGwqHAl2OTLT"
      }
    }
  ]
}