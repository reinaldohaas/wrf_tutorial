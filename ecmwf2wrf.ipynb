{
  "nbformat": 4,
  "nbformat_minor": 0,
  "metadata": {
    "colab": {
      "private_outputs": true,
      "provenance": [],
      "cell_execution_strategy": "setup",
      "mount_file_id": "1FJ6APbjDUlk6dCf-72PN536HzR1Ap1Io",
      "authorship_tag": "ABX9TyP0QdrFco/CEEo4MChQtjSb",
      "include_colab_link": true
    },
    "kernelspec": {
      "name": "python3",
      "display_name": "Python 3"
    },
    "language_info": {
      "name": "python"
    }
  },
  "cells": [
    {
      "cell_type": "markdown",
      "metadata": {
        "id": "view-in-github",
        "colab_type": "text"
      },
      "source": [
        "<a href=\"https://colab.research.google.com/github/reinaldohaas/wrf_tutorial/blob/main/ecmwf2wrf.ipynb\" target=\"_parent\"><img src=\"https://colab.research.google.com/assets/colab-badge.svg\" alt=\"Open In Colab\"/></a>"
      ]
    },
    {
      "cell_type": "markdown",
      "source": [
        "# Monte seu Google Drive clicando no ícone de arquivos à esquerda.\n",
        "#Este espaço será usado para salvar os dados Grib2 e utilizá-los em outro local.\n",
        "#Note que os dados serão apagados do Colab.\n",
        "#O diretório padrão é /content/drive/MyDrive/gis4wrf/datasets/met.\n",
        "#Neste diretório, será criado um arquivo para cada dia que você usar para realizar a simulação.\n",
        "\n",
        "\n",
        "\n",
        "\n",
        "\n"
      ],
      "metadata": {
        "id": "S7rKwWQCHNf8"
      }
    },
    {
      "cell_type": "markdown",
      "source": [
        "#Defina nas seções a seguir a área de seu interesse.\n",
        "#Certifique-se de que a área definida seja maior do que a que você planeja utilizar na simulação.\n",
        "#Leve em consideração a direção dos ventos predominantes.\n",
        "#Uma dica útil é aplicar a regra de enquadramento de fotografia 2/3 \"landscape\" invertida relação ao fluxo medio. Pense que quanto mais tempo esse fluxo estiver no domino da grade do modelo melhor. Porem esse raciocinio para vale para o primeiro aninhamentos. Os  internos, onde as atualizações ocorrem a cada passo de grade, essa regra pode ser relachada\n",
        "\n",
        "Exemplo:\n",
        "lat_start, lat_end, lat_step = 59, 46, 0.25\n",
        "\n",
        "lon_start, lon_end, lon_step = -2, 12, 0.25\n",
        "\n",
        "\n",
        "Isto será mostrado mo mapa abaixo\n",
        "\n",
        "iday, imonth, iyear, ihour=15, 7, 2018, 12\n",
        "\n",
        "eday,emonth,eyear,ehour=15,7,2018,18"
      ],
      "metadata": {
        "id": "0LNwjO5nDy09"
      }
    },
    {
      "cell_type": "code",
      "source": [
        "!pip install cdsapi"
      ],
      "metadata": {
        "id": "s_guGyX3EGng"
      },
      "execution_count": null,
      "outputs": []
    },
    {
      "cell_type": "code",
      "source": [
        "!sudo apt-get install libeccodes-tools"
      ],
      "metadata": {
        "id": "8uAO0JtAIpOs"
      },
      "execution_count": null,
      "outputs": []
    },
    {
      "cell_type": "code",
      "source": [
        "from google.colab import userdata\n",
        "import requests\n",
        "import os\n",
        "import time\n",
        "\n",
        "secret = userdata.get('secretWRF')\n",
        "\n",
        "auth = (155599,secret)\n",
        "datestr = '2024-05-01/2024-05-03'\n",
        "timestr = ['%02d:00' % h for h in range(0, 24, 24)]\n",
        "\n",
        "url_base = 'https://cds.climate.copernicus.eu/api/v2/'\n",
        "params_common = {\n",
        "    'date': datestr, 'time': timestr,\n",
        "    'product_type': 'reanalysis', 'format': 'grib',\n",
        "    # 'area': [-25, -56, -34, -46], # North, West, South, East\n",
        "}\n",
        "print(timestr)\n",
        "print(params_common)\n"
      ],
      "metadata": {
        "id": "qcdf8tZjVN_u"
      },
      "execution_count": null,
      "outputs": []
    },
    {
      "cell_type": "code",
      "source": [
        "# prompt: write  ~/.cdsapirc\n",
        "# url: https://cds.climate.copernicus.eu/api/v2\n",
        "# key: <UID>:<API key>\n",
        "\n",
        "with open(os.path.expanduser('~/.cdsapirc'), 'w') as f:\n",
        "  f.write('url: https://cds.climate.copernicus.eu/api/v2\\n')\n",
        "  f.write(f'key: {auth[0]}:{auth[1]}\\n')\n"
      ],
      "metadata": {
        "id": "6J1r8DBbAg_u"
      },
      "execution_count": null,
      "outputs": []
    },
    {
      "cell_type": "code",
      "source": [
        "# prompt: Use cdsapi na celula acima\n",
        "\n",
        "from google.colab import userdata\n",
        "import cdsapi\n",
        "import os\n",
        "import time\n",
        "\n",
        "# # Monte seu Google Drive clicando no ícone de arquivos à esquerda.\n",
        "# #Este espaço será usado para salvar os dados Grib2 e utilizá-los em outro local.\n",
        "# #Note que os dados serão apagados do Colab.\n",
        "# #O diretório padrão é /content/drive/MyDrive/gis4wrf/datasets/met.\n",
        "# #Neste diretório, será criado um arquivo para cada dia que você usar para realizar a simulação.\n",
        "#\n",
        "#\n",
        "#\n",
        "#\n",
        "#\n",
        "#\n",
        "# #Defina nas seções a seguir a área de seu interesse.\n",
        "# #Certifique-se de que a área definida seja maior do que a que você planeja utilizar na simulação.\n",
        "# #Leve em consideração a direção dos ventos predominantes.\n",
        "# #Uma dica útil é aplicar a regra de enquadramento de fotografia 2/3 \"landscape\" invertida relação ao fluxo medio. Pense que quanto mais tempo esse fluxo estiver no domino da grade do modelo melhor. Porem esse raciocinio para vale para o primeiro aninhamentos. Os  internos, onde as atualizações ocorrem a cada passo de grade, essa regra pode ser relachada\n",
        "#\n",
        "# Exemplo:\n",
        "# lat_start, lat_end, lat_step = 59, 46, 0.25\n",
        "#\n",
        "# lon_start, lon_end, lon_step = -2, 12, 0.25\n",
        "#\n",
        "#\n",
        "# Isto será mostrado mo mapa abaixo\n",
        "#\n",
        "# iday, imonth, iyear, ihour=15, 7, 2018, 12\n",
        "#\n",
        "# eday,emonth,eyear,ehour=15,7,2018,18\n",
        "\n",
        "# !pip install cdsapi\n",
        "# !sudo apt-get install libeccodes-tools\n",
        "\n",
        "\n",
        "c = cdsapi.Client()\n",
        "\n",
        "\n",
        "\n",
        "c.retrieve(\n",
        "    'reanalysis-era5-pressure-levels',\n",
        "    {\n",
        "        'product_type': 'reanalysis',\n",
        "        'format': 'grib',\n",
        "        'variable': [\n",
        "            'geopotential', 'relative_humidity', 'temperature',\n",
        "            'u_component_of_wind', 'v_component_of_wind',\n",
        "        ],\n",
        "        'pressure_level': [\n",
        "            '1', '2', '3',\n",
        "            '5', '7', '10',\n",
        "            '20', '30', '50',\n",
        "            '70', '100', '125',\n",
        "            '150', '175', '200',\n",
        "            '225', '250', '300',\n",
        "            '350', '400', '450',\n",
        "            '500', '550', '600',\n",
        "            '650', '700', '750',\n",
        "            '775', '800', '825',\n",
        "            '850', '875', '900',\n",
        "            '925', '950', '975',\n",
        "            '1000',\n",
        "        ],\n",
        "        'date': datestr,\n",
        "        'time': timestr,\n",
        "    },\n",
        "    'download.grib')\n",
        "\n",
        "c.retrieve(\n",
        "    'reanalysis-era5-single-levels',\n",
        "    {\n",
        "        'product_type': 'reanalysis',\n",
        "        'format': 'grib',\n",
        "        'variable': [\n",
        "            '10m_u_component_of_wind', '10m_v_component_of_wind', '2m_dewpoint_temperature',\n",
        "            '2m_temperature', 'land_sea_mask', 'mean_sea_level_pressure',\n",
        "            'sea_ice_cover', 'sea_surface_temperature', 'skin_temperature', 'snow_depth',\n",
        "            'soil_temperature_level_1', 'soil_temperature_level_2', 'soil_temperature_level_3',\n",
        "            'soil_temperature_level_4', 'surface_pressure', 'volumetric_soil_water_layer_1',\n",
        "            'volumetric_soil_water_layer_2', 'volumetric_soil_water_layer_3', 'volumetric_soil_water_layer_4',\n",
        "        ],\n",
        "        'date': datestr,\n",
        "        'time': timestr,\n",
        "    },\n",
        "    'download2.grib')\n"
      ],
      "metadata": {
        "id": "RlzGgGAIjue9"
      },
      "execution_count": null,
      "outputs": []
    },
    {
      "cell_type": "code",
      "source": [
        "# prompt: faça um código que a partir de data e uma latitude e longitudes centrais  pegue  5 graus de latitude N-S e L-o, para as próximas 32 horas de gribs em relação a data do ECMWF, a cada hora, tanto para single e level abaixo\n",
        "\n",
        "import datetime\n",
        "\n",
        "# Define the start date\n",
        "start_date = datetime.datetime(2024, 5, 2, 0)\n",
        "\n",
        "# Define the latitude and longitude of the center of the area of interest\n",
        "center_latitude = -28\n",
        "center_longitude = -52\n",
        "\n",
        "# Define the extent of the area of interest (5 degrees in each direction)\n",
        "latitude_extent = 5\n",
        "longitude_extent = 5\n",
        "\n",
        "# Calculate the start and end latitudes and longitudes\n",
        "start_latitude = center_latitude - latitude_extent\n",
        "end_latitude = center_latitude + latitude_extent\n",
        "start_longitude = center_longitude - longitude_extent\n",
        "end_longitude = center_longitude + longitude_extent\n",
        "\n",
        "print(f\"Start date: {start_date}\")\n",
        "print(f\"Center latitude: {center_latitude}\")\n",
        "print(f\"Center longitude: {center_longitude}\")\n",
        "print(f\"Latitude extent: {latitude_extent}\")  # 5 degrees in latitude\n",
        "print(f\"Longitude extent: {longitude_extent}\")  # 5 degrees in longitude\n",
        "print(f\"Start latitude: {start_latitude}\")\n",
        "print(f\"End latitude: {end_latitude}\")\n",
        "print(f\"Start longitude: {start_longitude}\")\n",
        "print(f\"End longitude: {end_longitude}\")\n"
      ],
      "metadata": {
        "id": "s4ObRuwTq0KL"
      },
      "execution_count": null,
      "outputs": []
    },
    {
      "cell_type": "code",
      "source": [
        "from google.colab import userdata\n",
        "secretWRF=userdata.get('secretWRF')"
      ],
      "metadata": {
        "id": "ZvdkwTpMqQsV"
      },
      "execution_count": null,
      "outputs": []
    },
    {
      "cell_type": "code",
      "source": [
        "# escrever a variavel secretWRF dento de um arquivo .cdsapirc no colab tal que url:\n",
        "# https://cds.climate.copernicus.eu/api/v2\n",
        "# key: userid:key\n",
        "\n",
        "with open('/root/.cdsapirc', 'w') as f:\n",
        "  f.write(f'url: https://cds.climate.copernicus.eu/api/v2\\nkey: {secretWRF}')\n"
      ],
      "metadata": {
        "id": "gh6nuAsZqtge"
      },
      "execution_count": null,
      "outputs": []
    },
    {
      "cell_type": "code",
      "source": [
        "cat /root/.cdsapirc"
      ],
      "metadata": {
        "id": "5C6YfDYWStou"
      },
      "execution_count": null,
      "outputs": []
    },
    {
      "cell_type": "code",
      "source": [
        "pip install folium geopy\n"
      ],
      "metadata": {
        "id": "dAwoqWHXi9vI"
      },
      "execution_count": null,
      "outputs": []
    },
    {
      "source": [
        "import numpy as np\n",
        "import folium\n",
        "\n",
        "def format_date(year, month, day, hour):\n",
        "    return f\"{year:04d}{month:02d}{day:02d}{hour:02d}\"\n",
        "\n",
        "def calculate_interval(start, end, step):\n",
        "    return int(np.abs(start - end) / step)\n",
        "\n",
        "def create_map(latitude_inicial, latitude_final, longitude_inicial, longitude_final, zoom=5):\n",
        "    center_lat = latitude_final + (latitude_inicial - latitude_final) / 2\n",
        "    center_lon = longitude_inicial + (longitude_final - longitude_inicial) / 2\n",
        "    return folium.Map(location=[center_lat, center_lon], zoom_start=zoom)\n",
        "\n",
        "def add_rectangle_to_map(map_obj, lat_start, lon_start, lat_end, lon_end):\n",
        "    folium.Rectangle([(lat_start, lon_start), (lat_end, lon_end)]).add_to(map_obj)\n",
        "\n",
        "# Coordenadas para latitude\n",
        "latitude_inicial, latitude_final, passo_latitude = -22, -36, 0.25\n",
        "\n",
        "# Coordenadas para longitude\n",
        "longitude_inicial, longitude_final, passo_longitude = -66, -43, 0.25\n",
        "\n",
        "# Data inicial\n",
        "hora_inicial, dia_inicial, mes_inicial, ano_inicial = 0, 2, 5, 2024\n",
        "\n",
        "# Data final\n",
        "hora_final, dia_final, mes_final, ano_final = 12, 3, 5, 2024\n",
        "\n",
        "# Configurar a URL e a chave\n",
        "print(f\"Latitude inicial: {latitude_inicial}\")\n",
        "print(f\"Latitude final: {latitude_final}\")\n",
        "# Changed 'latitude_step' to 'passo_latitude'\n",
        "print(f\"Latitude passo: {passo_latitude}\")\n",
        "print(f\"Longitude inicial: {longitude_inicial}\")\n",
        "print(f\"Longitude final: {longitude_final}\")\n",
        "# Changed 'longitude_step' to 'passo_longitude'\n",
        "print(f\"Longitude passo: {passo_longitude}\")\n",
        "\n",
        "# Initial date and time\n",
        "data_inicial=format_date(ano_inicial,mes_inicial,dia_inicial,hora_inicial)\n",
        "# Final date and time\n",
        "data_final  = format_date(ano_final,mes_final,dia_final,hora_final)\n",
        "\n",
        "print(f\"Data e hora de início: {data_inicial }\")\n",
        "print(f\"Data e hora de término: {data_final }\")\n",
        "\n",
        "\n",
        "# Calculate intervals\n",
        "# Changed 'longitude_step' to 'passo_longitude'\n",
        "lon_interval = calculate_interval(latitude_inicial, longitude_final, passo_longitude)\n",
        "# Changed 'latitude_step' to 'passo_latitude'\n",
        "lat_interval = calculate_interval(latitude_inicial, latitude_final, passo_latitude)\n",
        "\n",
        "# Create a map\n",
        "map_object = create_map(latitude_inicial, latitude_final, longitude_inicial, longitude_final)\n",
        "\n",
        "# Add a rectangle to the map\n",
        "add_rectangle_to_map(map_object, latitude_inicial, longitude_inicial, latitude_final, longitude_final)\n",
        "\n",
        "# Save the map as an HTML\n",
        "map_object"
      ],
      "cell_type": "code",
      "metadata": {
        "id": "GM3fgFB8tNgB"
      },
      "execution_count": null,
      "outputs": []
    },
    {
      "cell_type": "markdown",
      "source": [
        "#Pegar os arquivos horarios da analise 0.25 graus no ERA5\n",
        "=\n"
      ],
      "metadata": {
        "id": "TDeeafRRK89o"
      }
    },
    {
      "cell_type": "code",
      "source": [
        "data = f\"{data_inicial}_{data_final}\"\n",
        "print(data)"
      ],
      "metadata": {
        "id": "ryLQ2OddvAlZ"
      },
      "execution_count": null,
      "outputs": []
    },
    {
      "cell_type": "code",
      "source": [
        "import os\n",
        "if not os.path.exists(os.path.join('/content/drive/MyDrive/gis4wrf/datasets/met/era5/', data)):\n",
        "    !mkdir  /content/drive/MyDrive/gis4wrf/datasets/met/era5/{data}"
      ],
      "metadata": {
        "id": "Cpg82ytzl1yl"
      },
      "execution_count": null,
      "outputs": []
    },
    {
      "cell_type": "markdown",
      "source": [],
      "metadata": {
        "id": "J7uzLrg7HE68"
      }
    },
    {
      "cell_type": "code",
      "source": [
        "import cdsapi\n",
        "from datetime import datetime, timedelta\n",
        "\n",
        "\n",
        "# Criar uma lista de datas e horas\n",
        "data_hora_lista = []\n",
        "data_atual = datetime(ano_inicial, mes_inicial, dia_inicial, hora_inicial)\n",
        "data_final = datetime(ano_final, mes_final, dia_final, hora_final)\n",
        "\n",
        "while data_atual <= data_final:\n",
        "    data_hora_lista.append(data_atual.strftime('%Y-%m-%d_%H:00'))\n",
        "    data_atual += timedelta(hours=1)\n",
        "\n",
        "# Inicializar o cliente CDS API\n",
        "#URL = 'https://cds.climate.copernicus.eu/api/v2'\n",
        "#KEY = secretWRF\n",
        "c = cdsapi.Client()\n",
        "\n",
        "# Configurar a área de interesse\n",
        "area_interesse = [latitude_inicial, longitude_inicial, latitude_final, longitude_final]\n",
        "\n",
        "# Configurar as variáveis e níveis desejados\n",
        "variaveis = [\n",
        "    'geopotential', 'relative_humidity', 'specific_humidity',\n",
        "    'temperature', 'u_component_of_wind', 'v_component_of_wind',\n",
        "]\n",
        "niveis = [\n",
        "    '1', '2', '3',\n",
        "    '5', '7', '10',\n",
        "    '20', '30', '50',\n",
        "    '70', '100', '125',\n",
        "    '150', '175', '200',\n",
        "    '225', '250', '300',\n",
        "    '350', '400', '450',\n",
        "    '500', '550', '600',\n",
        "    '650', '700', '750',\n",
        "    '775', '800', '825',\n",
        "    '850', '875', '900',\n",
        "    '925', '950', '975',\n",
        "    '1000',\n",
        "]\n",
        "\n",
        "# Loop para baixar os dados hora a hora\n",
        "for data_hora in data_hora_lista:\n",
        "    c.retrieve(\n",
        "        'reanalysis-era5-pressure-levels',\n",
        "        {\n",
        "            'product_type': 'reanalysis',\n",
        "            'variable': variaveis,\n",
        "            'pressure_level': niveis,\n",
        "            'year': data_hora[:4],\n",
        "            'month': data_hora[5:7],\n",
        "            'day': data_hora[8:10],\n",
        "            'hour': data_hora[11:13],\n",
        "            'area': area_interesse,\n",
        "            'format': 'grib',\n",
        "        },\n",
        "        f'level_{data_hora}.grib'\n",
        "    )\n"
      ],
      "metadata": {
        "id": "tnObclveHpCn"
      },
      "execution_count": null,
      "outputs": []
    },
    {
      "cell_type": "code",
      "source": [
        "import cdsapi\n",
        "from datetime import datetime, timedelta\n",
        "\n",
        "# Definir as datas e horas iniciais e finais\n",
        "ano_inicial, mes_inicial, dia_inicial, hora_inicial = 2024, 5, 2, 0\n",
        "ano_final, mes_final, dia_final, hora_final = 2024, 5, 2, 23\n",
        "\n",
        "# Criar uma lista de horas\n",
        "horas = []\n",
        "data_atual = datetime(ano_inicial, mes_inicial, dia_inicial, hora_inicial)\n",
        "data_final = datetime(ano_final, mes_final, dia_final, hora_final)\n",
        "\n",
        "while data_atual <= data_final:\n",
        "    horas.append(data_atual.strftime('%H:00'))\n",
        "    data_atual += timedelta(hours=1)\n",
        "\n",
        "# Inicializar o cliente CDS API\n",
        "#URL = 'https://cds.climate.copernicus.eu/api/v2'\n",
        "#KEY = {secretWRF}\n",
        "c = cdsapi.Client()\n",
        "\n",
        "# Configurar a área de interesse\n",
        "latitude_inicial, longitude_inicial = -24, -56  # Norte e Oeste\n",
        "latitude_final, longitude_final = -34, -46      # Sul e Leste\n",
        "area_interesse = [latitude_inicial, longitude_inicial, latitude_final, longitude_final]\n",
        "\n",
        "# Configurar as variáveis e níveis desejados\n",
        "variaveis = [\n",
        "    'geopotential', 'relative_humidity', 'specific_humidity',\n",
        "    'temperature', 'u_component_of_wind', 'v_component_of_wind',\n",
        "]\n",
        "niveis = [\n",
        "    '1', '2', '3',\n",
        "    '5', '7', '10',\n",
        "    '20', '30', '50',\n",
        "    '70', '100', '125',\n",
        "    '150', '175', '200',\n",
        "    '225', '250', '300',\n",
        "    '350', '400', '450',\n",
        "    '500', '550', '600',\n",
        "    '650', '700', '750',\n",
        "    '775', '800', '825',\n",
        "    '850', '875', '900',\n",
        "    '925', '950', '975',\n",
        "    '1000',\n",
        "]\n",
        "\n",
        "# Baixar os dados para todas as horas de uma só vez\n",
        "c.retrieve(\n",
        "    'reanalysis-era5-pressure-levels',\n",
        "    {\n",
        "        'product_type': 'reanalysis',\n",
        "        'variable': variaveis,\n",
        "        'pressure_level': niveis,\n",
        "        'year': str(ano_inicial),\n",
        "        'month': str(mes_inicial).zfill(2),\n",
        "        'day': str(dia_inicial).zfill(2),\n",
        "        'time': horas,  # Todas as horas\n",
        "        'area': area_interesse,\n",
        "        'format': 'grib',\n",
        "    },\n",
        "    'era5_20240502.grib'  # Nome do arquivo de saída\n",
        ")\n",
        "\n",
        "print(\"Download concluído: era5_20240502.grib\")\n"
      ],
      "metadata": {
        "id": "-d0HbYkJiHlB"
      },
      "execution_count": null,
      "outputs": []
    },
    {
      "cell_type": "markdown",
      "source": [],
      "metadata": {
        "id": "9Eajq7dI0F3p"
      }
    },
    {
      "cell_type": "code",
      "source": [
        "# prompt: Usar programa acima para trazer dados de superfície para\n",
        "#  variable': [\n",
        "#         '10m_u_component_of_wind', '10m_v_component_of_wind', '2m_dewpoint_temperature',\n",
        "#         '2m_temperature', 'land_sea_mask', 'mean_sea_level_pressure',\n",
        "#         'sea_ice_cover', 'sea_surface_temperature', 'skin_temperature', 'snow_depth',\n",
        "#         'soil_temperature_level_1', 'soil_temperature_level_2', 'soil_temperature_l\n",
        "\n",
        "import datetime\n",
        "from google.colab import userdata\n",
        "import numpy as np\n",
        "import folium\n",
        "import os\n",
        "import cdsapi\n",
        "from datetime import datetime, timedelta\n",
        "\n",
        "# ... (código anterior permanece o mesmo)\n",
        "\n",
        "# Definir as datas e horas iniciais e finais\n",
        "ano_inicial, mes_inicial, dia_inicial, hora_inicial = 2024, 5, 2, 0\n",
        "ano_final, mes_final, dia_final, hora_final = 2024, 5, 2, 23\n",
        "\n",
        "# Criar uma lista de horas\n",
        "horas = []\n",
        "data_atual = datetime(ano_inicial, mes_inicial, dia_inicial, hora_inicial)\n",
        "data_final = datetime(ano_final, mes_final, dia_final, hora_final)\n",
        "\n",
        "while data_atual <= data_final:\n",
        "    horas.append(data_atual.strftime('%H:00'))\n",
        "    data_atual += timedelta(hours=1)\n",
        "\n",
        "# Inicializar o cliente CDS API\n",
        "#URL = 'https://cds.climate.copernicus.eu/api/v2'\n",
        "#KEY = '155599:158e151f-e874-437c-9e60-4e14a4681ad6'  # Substitua pela sua chave\n",
        "c = cdsapi.Client()\n",
        "\n",
        "# Configurar a área de interesse\n",
        "latitude_inicial, longitude_inicial = -24, -56  # Norte e Oeste\n",
        "latitude_final, longitude_final = -34, -46      # Sul e Leste\n",
        "area_interesse = [latitude_inicial, longitude_inicial, latitude_final, longitude_final]\n",
        "\n",
        "# Configurar as variáveis de superfície desejadas\n",
        "variaveis_superficie = [\n",
        "\n",
        "                '10m_u_component_of_wind', '10m_v_component_of_wind', '2m_dewpoint_temperature',\n",
        "                '2m_temperature', 'geopotential', 'land_sea_mask',\n",
        "                'leaf_area_index_high_vegetation', 'mean_sea_level_pressure', 'sea_ice_cover',\n",
        "                'sea_surface_temperature', 'snow_depth', 'soil_temperature_level_1',\n",
        "                'soil_temperature_level_2', 'soil_temperature_level_3', 'soil_temperature_level_4',\n",
        "                'soil_type', 'surface_latent_heat_flux', 'surface_pressure',\n",
        "                'top_net_solar_radiation_clear_sky', 'total_precipitation', 'volumetric_soil_water_layer_1',\n",
        "                'volumetric_soil_water_layer_2', 'volumetric_soil_water_layer_3', 'volumetric_soil_water_layer_4',\n",
        "                'skin_temperature',\n",
        "]\n",
        "# Baixar os dados de superfície para todas as horas de uma só vez\n",
        "c.retrieve(\n",
        "    'reanalysis-era5-single-levels',  # Mudança para single-levels\n",
        "    {\n",
        "        'product_type': 'reanalysis',\n",
        "        'variable': variaveis_superficie,  # Variáveis de superfície\n",
        "        'year': str(ano_inicial),\n",
        "        'month': str(mes_inicial).zfill(2),\n",
        "        'day': str(dia_inicial).zfill(2),\n",
        "        'time': horas,  # Todas as horas\n",
        "        'area': area_interesse,\n",
        "        'format': 'grib',\n",
        "    },\n",
        "    'era5_surface_20240502.grib'  # Nome do arquivo de saída\n",
        ")\n",
        "\n",
        "print(\"Download concluído: era5_surface_20240502.grib\")\n"
      ],
      "metadata": {
        "id": "iRdE0J9Ez8o4"
      },
      "execution_count": null,
      "outputs": []
    },
    {
      "cell_type": "code",
      "source": [
        "!grib_copy era5_surface_20240502.grib era5_20240502.grib complete_20240502.grib"
      ],
      "metadata": {
        "id": "chdgwwc-07YG"
      },
      "execution_count": null,
      "outputs": []
    },
    {
      "cell_type": "code",
      "source": [
        "\n",
        "%cp complete_20240502.grib /content/drive/MyDrive/gis4wrf/datasets/met/era5/{data}/."
      ],
      "metadata": {
        "id": "hUz-Y94J7shj"
      },
      "execution_count": null,
      "outputs": []
    },
    {
      "cell_type": "markdown",
      "source": [],
      "metadata": {
        "id": "OyUwkdZVsCAT"
      }
    },
    {
      "cell_type": "code",
      "source": [
        "data_hora_lista"
      ],
      "metadata": {
        "id": "M9sYTokFKa7h"
      },
      "execution_count": null,
      "outputs": []
    },
    {
      "cell_type": "code",
      "source": [
        "!sudo apt-get install grads\n",
        "!pip install git+https://github.com/meridionaljet/py3grads`\n",
        "!wget ftp://ftp.cpc.ncep.noaa.gov/wd51we/wgrib/wgrib.c\n",
        "!gcc wgrib.c -o wgrib\n",
        "!sudo cp wgrib /usr/local/bin/\n",
        "!wget ftp://ftp.cpc.ncep.noaa.gov/wd51we/wgrib.scripts/grib2ctl.pl\n",
        "!sudo cp grib2ctl.pl  /usr/local/bin/.\n",
        "!chmod 755 /usr/local/bin/grib2ctl.pl"
      ],
      "metadata": {
        "id": "ZqubSxAhxllj"
      },
      "execution_count": null,
      "outputs": []
    },
    {
      "cell_type": "code",
      "source": [
        "%%bash\n",
        "export PATH=$PATH:/usr/local/bin\n",
        "/usr/local/bin/grib2ctl.pl -verf complete_20240502.grib > level.ctl"
      ],
      "metadata": {
        "id": "g_FZIjHd9Ius"
      },
      "execution_count": null,
      "outputs": []
    },
    {
      "cell_type": "code",
      "source": [
        "\n",
        "!cat level.ctl"
      ],
      "metadata": {
        "id": "uSj4oekz9i_t"
      },
      "execution_count": null,
      "outputs": []
    },
    {
      "cell_type": "code",
      "source": [
        "\n",
        "!gribmap  -e -i level.ctl -0"
      ],
      "metadata": {
        "id": "pgB9T9Hd9ywO"
      },
      "execution_count": null,
      "outputs": []
    },
    {
      "cell_type": "code",
      "source": [
        "!pip install git+https://github.com/meridionaljet/py3grads"
      ],
      "metadata": {
        "id": "fc_sXBkbK5YV"
      },
      "execution_count": null,
      "outputs": []
    },
    {
      "cell_type": "code",
      "source": [
        "# not using `python-cartopy` package as it doesn't include all build dependencies\n",
        "!apt-get install libproj-dev proj-bin proj-data\n",
        "!apt-get install libgeos-dev\n",
        "\n",
        "# shapely needs to be reinstalled to use the same geos install as cartopy (https://github.com/SciTools/cartopy/issues/871)\n",
        "!pip uninstall -y shapely\n",
        "!pip install --no-binary shapely shapely\n",
        "!pip install cartopy"
      ],
      "metadata": {
        "id": "ArCwRx9cDEmF"
      },
      "execution_count": null,
      "outputs": []
    },
    {
      "cell_type": "code",
      "source": [
        "from py3grads import Grads\n",
        "import cartopy.crs as ccrs\n",
        "import cartopy.feature as cfeature\n",
        "import matplotlib.pyplot as plt\n",
        "\n",
        "# Abrir o arquivo de controle do GrADS\n",
        "ga = Grads(verbose=False)\n",
        "ga('open single.ctl')\n",
        "ga('define mslp = MSLsfc')\n",
        "mslp = ga.exp('mslp')\n",
        "lons = ga.exp('lon')\n",
        "lats = ga.exp('lat')\n",
        "\n",
        "# Criar uma figura e um subplot\n",
        "fig = plt.figure(figsize=(10, 8))\n",
        "ax = fig.add_subplot(1, 1, 1, projection=ccrs.PlateCarree())\n",
        "\n",
        "# Adicionar os contornos de mslp\n",
        "contour = ax.contourf(lons, lats, mslp/100, transform=ccrs.PlateCarree())\n",
        "\n",
        "# Adicionar limites dos países\n",
        "ax.add_feature(cfeature.BORDERS, linestyle=':')\n",
        "ax.add_feature(cfeature.COASTLINE)\n",
        "\n",
        "plt.colorbar(contour, label='MSLP (hPa)')\n",
        "plt.title('Mapa de MSLP  na Onde de Calor de 2018 na Europa')\n",
        "plt.show()\n"
      ],
      "metadata": {
        "id": "ECdz6gzsFUXQ"
      },
      "execution_count": null,
      "outputs": []
    },
    {
      "cell_type": "code",
      "source": [
        "#\"\"\" Usar para instalar o WRF no Driver\n",
        "#!wget https://github.com/WRF-CMake/WRF/releases/download/WRF-CMake-4.0/wrf-cmake-4.0-dmpar-basic-release-linux.tar.xz\n",
        "#!wget https://github.com/WRF-CMake/WPS/releases/download/WPS-CMake-4.0/wps-cmake-4.0-dmpar-basic-release-linux.tar.xz\n",
        "#%mkdir gis4wrf\n",
        "#%mkdir gis4wrf/dist\n",
        "#%mkdir gis4wrf/datasets\n",
        "#%mkdir gis4wrf/datasets/geog\n",
        "#%mkdir gis4wrf/datasets/met\n",
        "#%mkdir gis4wrf/projects\n",
        "#!tar -xvf wrf-cmake-4.0-dmpar-basic-release-linux.tar.xz\n",
        "#%mv test gis4wrf/dist/WRF\n",
        "#%mkdir gis4wrf/dist/WPS\n",
        "#!tar -xvf wps-cmake-4.0-dmpar-basic-release-linux.tar.xz -C gis4wrf/dist/WPS\n",
        "#***"
      ],
      "metadata": {
        "id": "xiAKApNlKa1M"
      },
      "execution_count": null,
      "outputs": []
    },
    {
      "cell_type": "code",
      "source": [
        " %%writefile rules_file\n",
        " write \"./[centre]_[date]_[hour]_[dataType]_[levelType].grib[editionNumber]\";"
      ],
      "metadata": {
        "id": "uXnopna49L7X"
      },
      "execution_count": null,
      "outputs": []
    },
    {
      "cell_type": "code",
      "source": [
        "!grib_filter rules_file level.grib"
      ],
      "metadata": {
        "id": "rUOeTdJcfNGE"
      },
      "execution_count": null,
      "outputs": []
    },
    {
      "cell_type": "code",
      "source": [
        "!grib_filter rules_file  single.grib"
      ],
      "metadata": {
        "id": "NKWtnFSaewiJ"
      },
      "execution_count": null,
      "outputs": []
    },
    {
      "cell_type": "code",
      "source": [
        "import os\n",
        "\n",
        "# Diretório onde os arquivos estão localizados\n",
        "directory = '/content'  # Substitua pelo caminho correto\n",
        "\n",
        "# Lista para armazenar os nomes dos arquivos\n",
        "file_list = []\n",
        "\n",
        "# Itera sobre os arquivos no diretório\n",
        "for filename in os.listdir(directory):\n",
        "    if filename.endswith(\"_pl.grib1\"):\n",
        "        new_filename = filename.replace('_pl.grib1', '')\n",
        "        !grib_copy {new_filename}'_pl.grib1' {new_filename}'_sfc.grib1' {new_filename}'.grib1'\n",
        "        !rm -rf {new_filename}'_pl.grib1' {new_filename}'_sfc.grib1'\n",
        "\n",
        "\n",
        "print(\"Arquivos renomeados e lista de nomes gerada.\")\n"
      ],
      "metadata": {
        "id": "-h8sPdrO_B6T"
      },
      "execution_count": null,
      "outputs": []
    },
    {
      "cell_type": "markdown",
      "source": [
        "# Copiar os arquivos para o gdrive"
      ],
      "metadata": {
        "id": "JoX0ni-BLdAU"
      }
    },
    {
      "cell_type": "code",
      "source": [
        "%cd /content/\n",
        "%cp *.grib1 /content/drive/MyDrive/gis4wrf/datasets/met/era5/{data}/."
      ],
      "metadata": {
        "id": "WgXjJW6jb6Yy"
      },
      "execution_count": null,
      "outputs": []
    },
    {
      "cell_type": "code",
      "source": [
        "print(\"Isso será impresso na mesma linha.\", end='')\n",
        "print(\"Isso também será impresso na mesma linha.\")\n"
      ],
      "metadata": {
        "id": "JMKuVCYKX1id"
      },
      "execution_count": null,
      "outputs": []
    },
    {
      "cell_type": "code",
      "source": [
        "%%writefile /content/drive/MyDrive/gis4wrf/projects/Amsterdam/run_wps//namelist.wps\n",
        "&share\n",
        "nocolons = .true.\n",
        "max_dom = 2\n",
        "start_date = '2018-07-15_12:00:00', '2018-07-15_12:00:00'\n",
        "end_date = '2018-07-15_18:00:00', '2018-07-15_18:00:00'\n",
        "interval_seconds = 3600\n",
        "/\n",
        "\n",
        "&geogrid\n",
        "parent_id = 1, 1\n",
        "parent_grid_ratio = 1, 5\n",
        "i_parent_start = 1, 26\n",
        "j_parent_start = 1, 26\n",
        "e_we = 48, 46\n",
        "e_sn = 48, 46\n",
        "map_proj = 'lambert'\n",
        "dx = 15000.0\n",
        "dy = 15000.0\n",
        "ref_lon = 4.010365796273883\n",
        "ref_lat = 51.82601286689866\n",
        "geog_data_res = '30s', '30s'\n",
        "geog_data_path = '/content/drive/MyDrive/gis4wrf/datasets/geog'\n",
        "truelat1 = 3.0\n",
        "truelat2 = 7.0\n",
        "stand_lon = 4.0\n",
        "/\n",
        "\n",
        "&metgrid\n",
        "fg_name = 'FILE'\n",
        "/\n"
      ],
      "metadata": {
        "id": "HGmMzJ_yAukS"
      },
      "execution_count": null,
      "outputs": []
    },
    {
      "cell_type": "code",
      "source": [
        "%cd /content/drive/MyDrive/gis4wrf/projects/Amsterdam/run_wps/\n",
        "!chmod 755  /content/drive/MyDrive/gis4wrf/dist/WPS/geogrid.exe\n",
        "!/content/drive/MyDrive/gis4wrf/dist/WPS/geogrid.exe"
      ],
      "metadata": {
        "id": "cHUIdLT6Czkf"
      },
      "execution_count": null,
      "outputs": []
    },
    {
      "cell_type": "code",
      "source": [
        "%%writefile /content/drive/MyDrive/gis4wrf/projects/Amsterdam/run_wrf/namelist.input\n",
        "&time_control\n",
        "run_days = 0\n",
        "run_hours = 6\n",
        "run_minutes = 0\n",
        "run_seconds = 0\n",
        "start_year = 2018, 2018\n",
        "start_month = 7, 7\n",
        "start_day = 15, 15\n",
        "start_hour = 12, 12\n",
        "end_year = 2018, 2018\n",
        "end_month = 7, 7\n",
        "end_day = 15, 15\n",
        "end_hour = 18, 18\n",
        "interval_seconds = 10800\n",
        "input_from_file = .true., .true.\n",
        "history_interval = 180, 60\n",
        "frames_per_outfile = 1000, 1000\n",
        "restart = .false.\n",
        "restart_interval = 7200\n",
        "io_form_history = 2\n",
        "io_form_restart = 2\n",
        "io_form_input = 2\n",
        "io_form_boundary = 2\n",
        "start_minute = 0, 0\n",
        "start_second = 0, 0\n",
        "end_minute = 0, 0\n",
        "end_second = 0, 0\n",
        "nocolons = .true.\n",
        "/\n",
        "\n",
        "&domains\n",
        "use_adaptive_time_step = .true.\n",
        "step_to_output_time = .true.\n",
        "target_cfl = 1.2, 1.2\n",
        "max_step_increase_pct = 5, 51\n",
        "starting_time_step = 30, 5\n",
        "max_time_step = -1, -1\n",
        "min_time_step = 30, -1\n",
        "time_step = 30\n",
        "time_step_fract_num = 0\n",
        "time_step_fract_den = 1\n",
        "max_dom = 2\n",
        "e_we = 48, 46\n",
        "e_sn = 48, 46\n",
        "e_vert = 33, 33\n",
        "p_top_requested = 5000\n",
        "num_metgrid_levels = 32\n",
        "num_metgrid_soil_levels = 4\n",
        "dx = 15000.0, 3000.0\n",
        "dy = 15000.0, 3000.0\n",
        "grid_id = 1, 2\n",
        "parent_id = 1, 1\n",
        "i_parent_start = 1, 26\n",
        "j_parent_start = 1, 26\n",
        "parent_grid_ratio = 1, 5\n",
        "parent_time_step_ratio = 1, 5\n",
        "feedback = 1\n",
        "smooth_option = 0\n",
        "/\n",
        "\n",
        "&physics\n",
        "physics_suite = 'CONUS'\n",
        "mp_physics = -1, -1, -1\n",
        "cu_physics = -1, -1, 0\n",
        "ra_lw_physics = -1, -1, -1\n",
        "ra_sw_physics = -1, -1, -1\n",
        "bl_pbl_physics = -1, -1, -1\n",
        "sf_sfclay_physics = -1, -1, -1\n",
        "sf_surface_physics = -1, -1, -1\n",
        "radt = 30, 30, 30\n",
        "bldt = 0, 0, 0\n",
        "cudt = 5, 5, 5\n",
        "icloud = 1\n",
        "num_land_cat = 21\n",
        "sf_urban_physics = 0, 0, 0\n",
        "/\n",
        "\n",
        "&fdda\n",
        "/\n",
        "\n",
        "&dynamics\n",
        "hybrid_opt = 2\n",
        "w_damping = 0\n",
        "diff_opt = 1, 1, 1\n",
        "km_opt = 4, 4, 4\n",
        "diff_6th_opt = 0, 0, 0\n",
        "diff_6th_factor = 0.12, 0.12, 0.12\n",
        "base_temp = 290.0\n",
        "damp_opt = 3\n",
        "zdamp = 5000.0, 5000.0, 5000.0\n",
        "dampcoef = 0.2, 0.2, 0.2\n",
        "khdif = 0, 0, 0\n",
        "kvdif = 0, 0, 0\n",
        "non_hydrostatic = .true., .true., .true.\n",
        "moist_adv_opt = 1, 1, 1\n",
        "scalar_adv_opt = 1, 1, 1\n",
        "gwd_opt = 1\n",
        "/\n",
        "\n",
        "&bdy_control\n",
        "spec_bdy_width = 5\n",
        "specified = .true.\n",
        "/\n",
        "\n",
        "&grib2\n",
        "/\n",
        "\n",
        "&namelist_quilt\n",
        "nio_tasks_per_group = 0\n",
        "nio_groups = 1\n",
        "/\n"
      ],
      "metadata": {
        "id": "ODJ90Z_8DPMD"
      },
      "execution_count": null,
      "outputs": []
    },
    {
      "cell_type": "code",
      "source": [
        "!chmod 755 /content/drive/MyDrive/gis4wrf/dist/WRF-4.0-mpi/main/real.exe\n",
        "!chmod 755 /content/drive/MyDrive/gis4wrf/dist/WRF-4.0-mpi/main/wrf.exe\n",
        "!/content/drive/MyDrive/gis4wrf/dist/WRF-4.0-mpi/main/real.exe\n",
        "!mpirun -n 1 --allow-run-as-root --use-hwthread-cpus /content/drive/MyDrive/gis4wrf/dist/WRF-4.0-mpi/main/wrf.exe"
      ],
      "metadata": {
        "id": "YeHJMiWoEzgo"
      },
      "execution_count": null,
      "outputs": []
    },
    {
      "cell_type": "code",
      "source": [
        "!mpirun -np 2 --allow-run-as-root --use-hwthread-cpus /content/drive/MyDrive/gis4wrf/dist/WRF-4.0-mpi/main/wrf.exe"
      ],
      "metadata": {
        "id": "ptMoeGtDY93I"
      },
      "execution_count": null,
      "outputs": []
    },
    {
      "cell_type": "code",
      "source": [
        "!/content/drive/MyDrive/gis4wrf/dist/WRF-4.0-mpi/main/real.exe\n"
      ],
      "metadata": {
        "id": "rTjZ_66SJuua"
      },
      "execution_count": null,
      "outputs": []
    },
    {
      "cell_type": "code",
      "source": [
        "%cd /content/drive/MyDrive/gis4wrf/dist/\n"
      ],
      "metadata": {
        "id": "IMmJQmPZJ035"
      },
      "execution_count": null,
      "outputs": []
    },
    {
      "cell_type": "code",
      "source": [
        "%ls"
      ],
      "metadata": {
        "id": "uMgXurvPJ98G"
      },
      "execution_count": null,
      "outputs": []
    },
    {
      "cell_type": "code",
      "source": [
        "!tar  xvf WRF-4.0-nonmpi.tar"
      ],
      "metadata": {
        "id": "2Nz2Z6jMMTf_"
      },
      "execution_count": null,
      "outputs": []
    },
    {
      "cell_type": "code",
      "source": [
        "%rm  WRF-4.0-nonmpi.tar\n"
      ],
      "metadata": {
        "id": "IC4mLQ0Ejipd"
      },
      "execution_count": null,
      "outputs": []
    },
    {
      "cell_type": "code",
      "source": [
        "%cd .."
      ],
      "metadata": {
        "id": "YklXOtMRjpT2"
      },
      "execution_count": null,
      "outputs": []
    },
    {
      "cell_type": "code",
      "source": [
        "%cd projects/Amsterdam/run_wps/\n"
      ],
      "metadata": {
        "id": "Xtd-O4dqj0c9"
      },
      "execution_count": null,
      "outputs": []
    },
    {
      "cell_type": "code",
      "source": [
        "!chmod 755 /content/drive/MyDrive/gis4wrf/dist/WPS-4.0-nompi/geogrid.exe\n",
        "!/content/drive/MyDrive/gis4wrf/dist/WPS-4.0-nompi/geogrid.exe"
      ],
      "metadata": {
        "id": "edLVrfXNj8XH"
      },
      "execution_count": null,
      "outputs": []
    },
    {
      "cell_type": "code",
      "source": [
        "!chmod 755 /content/drive/MyDrive/gis4wrf/dist/WPS-4.0-nompi/ungrib.exe\n",
        "!/content/drive/MyDrive/gis4wrf/dist/WPS-4.0-nompi/ungrib.exe"
      ],
      "metadata": {
        "id": "KJD8YrZ5kMGE"
      },
      "execution_count": null,
      "outputs": []
    },
    {
      "cell_type": "code",
      "source": [
        "!chmod 755 /content/drive/MyDrive/gis4wrf/dist/WPS-4.0-nompi/metgrid.exe\n",
        "!/content/drive/MyDrive/gis4wrf/dist/WPS-4.0-nompi/metgrid.exe"
      ],
      "metadata": {
        "id": "OmNJCZR1khNM"
      },
      "execution_count": null,
      "outputs": []
    },
    {
      "cell_type": "code",
      "source": [
        "%cd ../run_wrf/\n"
      ],
      "metadata": {
        "id": "hQUNvOqokouR"
      },
      "execution_count": null,
      "outputs": []
    },
    {
      "cell_type": "code",
      "source": [
        "!chmod 755 /content/drive/MyDrive/gis4wrf/dist/WRF-4.0-nompi/main/real.exe\n",
        "!/content/drive/MyDrive/gis4wrf/dist/WRF-4.0-nompi/main/real.exe"
      ],
      "metadata": {
        "id": "CNYjcoSYkx8-"
      },
      "execution_count": null,
      "outputs": []
    },
    {
      "cell_type": "code",
      "source": [
        "!chmod 755 /content/drive/MyDrive/gis4wrf/dist/WRF-4.0-nompi/main/wrf.exe\n",
        "!/content/drive/MyDrive/gis4wrf/dist/WRF-4.0-nompi/main/wrf.exe"
      ],
      "metadata": {
        "id": "V70_JnMFlGQt"
      },
      "execution_count": null,
      "outputs": []
    },
    {
      "cell_type": "code",
      "source": [],
      "metadata": {
        "id": "68Txhx48lbvu"
      },
      "execution_count": null,
      "outputs": []
    }
  ]
}